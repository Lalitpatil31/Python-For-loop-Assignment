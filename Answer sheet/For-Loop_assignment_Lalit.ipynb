{
 "cells": [
  {
   "cell_type": "markdown",
   "metadata": {},
   "source": [
    "- Basic Level"
   ]
  },
  {
   "cell_type": "code",
   "execution_count": 14,
   "metadata": {},
   "outputs": [
    {
     "name": "stdout",
     "output_type": "stream",
     "text": [
      "Output of the Q-1)\n",
      "1\n",
      "2\n",
      "3\n",
      "4\n",
      "5\n",
      "6\n",
      "7\n",
      "8\n",
      "9\n",
      "10\n",
      "Output of the Q-2)\n",
      "Sum: 15\n",
      "Output of the Q-3)\n",
      "ollehOutput of the Q-4)\n",
      "Factorial: 120\n",
      "Output of the Q-5)\n",
      "5 x 1 = 5\n",
      "5 x 2 = 10\n",
      "5 x 3 = 15\n",
      "5 x 4 = 20\n",
      "5 x 5 = 25\n",
      "5 x 6 = 30\n",
      "5 x 7 = 35\n",
      "5 x 8 = 40\n",
      "5 x 9 = 45\n",
      "5 x 10 = 50\n",
      "Output of the Q-6)\n",
      "Even count: 3, Odd count: 3\n",
      "Output of the Q-7)\n",
      "1\n",
      "4\n",
      "9\n",
      "16\n",
      "25\n",
      "Output of the Q-8)\n",
      "Length of string: 5\n",
      "Output of the Q-9)\n",
      "Average: 3.0\n",
      "Output of the Q-10)\n",
      "0 1 1 2 3 5 8 We define two variables a and b, initialized to 0 and 1, which will store the first two Fibonacci numbers.The for loop runs n times, and in each iteration, we print the current value of a (the Fibonacci number).Then, we update a and b to the next two Fibonacci numbers by setting a to b, and b to a + b.\n"
     ]
    }
   ],
   "source": [
    "#1. Write a Python program to print the numbers from 1 to 10 using a for loop.\n",
    "print(\"Output of the Q-1)\")\n",
    "for i in range(1, 11):\n",
    "    print(i)\n",
    "#We use a for loop to iterate through a range of numbers from 1 to 10.\n",
    "#The range(1, 11) function generates numbers starting from 1 and ends at 10 (since the stop value in range() is exclusive).\n",
    "#Inside the loop, the print(i) statement prints each number in the range.\n",
    "\n",
    "#2. Create a program that calculates the sum of all numbers in a list using a for loop.\n",
    "print(\"Output of the Q-2)\")\n",
    "numbers = [1, 2, 3, 4, 5]\n",
    "sum = 0\n",
    "for num in numbers:\n",
    "    sum += num\n",
    "print(\"Sum:\", sum)\n",
    "#We define a list numbers containing integers.\n",
    "#A variable sum is initialized to 0, which will accumulate the sum of all numbers.\n",
    "#We then iterate through each number in the list using the for loop. For each number, we add it to sum.\n",
    "#Finally, we print the result.\n",
    "\n",
    "#3. Write a program to print the characters of a string in reverse order using a for loop.\n",
    "print(\"Output of the Q-3)\")\n",
    "string = \"hello\"\n",
    "for char in reversed(string):\n",
    "    print(char, end=\"\")\n",
    "# The string \"hello\" is iterated in reverse order using the reversed() function.\n",
    "# The for loop goes through each character in the reversed string and prints them. The end=\"\" in print() prevents the default newline and ensures the characters are printed on the same line.\n",
    "\n",
    "#4. Develop a program that finds the factorial of a given number using a for loop.\n",
    "print(\"Output of the Q-4)\")\n",
    "n = 5\n",
    "factorial = 1\n",
    "for i in range(1, n + 1):\n",
    "    factorial *= i\n",
    "print(\"Factorial:\", factorial)\n",
    "# We define a variable n with the number for which we want to calculate the factorial.\n",
    "# factorial is initialized to 1, and a for loop iterates from 1 to n.\n",
    "# In each iteration, we multiply factorial by the current number i.\n",
    "# After the loop completes, we print the result.\n",
    "\n",
    "# 5. Create a program to print the multiplication table of a given number using a for loop.\n",
    "print(\"Output of the Q-5)\")\n",
    "n = 5\n",
    "for i in range(1, 11):\n",
    "    print(f\"{n} x {i} = {n * i}\")\n",
    "# We use a for loop that iterates over the range from 1 to 10.\n",
    "# In each iteration, we multiply the given number n by the loop variable i and print the result in a formatted manner.\n",
    "\n",
    "# 6. Write a program that counts the number of even and odd numbers in a list using a for loop.\n",
    "print(\"Output of the Q-6)\")\n",
    "numbers = [1, 2, 3, 4, 5, 6]\n",
    "even_count = 0\n",
    "odd_count = 0\n",
    "for num in numbers:\n",
    "    if num % 2 == 0:\n",
    "        even_count += 1\n",
    "    else:\n",
    "        odd_count += 1\n",
    "print(f\"Even count: {even_count}, Odd count: {odd_count}\")\n",
    "# We iterate through the numbers list using a for loop.\n",
    "# Inside the loop, we check whether the current number is even or odd using the modulo operator (%).\n",
    "# The even_count is incremented if the number is divisible by 2, otherwise, the odd_count is incremented.\n",
    "# The result is printed at the end.\n",
    "\n",
    "# 7. Develop a program that prints the squares of numbers from 1 to 5 using a for loop.\n",
    "print(\"Output of the Q-7)\")\n",
    "for i in range(1, 6):\n",
    "    print(i**2)\n",
    "# The for loop iterates over the range of numbers from 1 to 5.\n",
    "# In each iteration, we calculate the square of the current number using i**2 and print it.\n",
    "\n",
    "# 8. Create a program to find the length of a string without using the len() function.\n",
    "print(\"Output of the Q-8)\")\n",
    "string = \"hello\"\n",
    "length = 0\n",
    "for char in string:\n",
    "    length += 1\n",
    "print(\"Length of string:\", length)\n",
    "# We initialize length to 0.\n",
    "# The for loop iterates over each character in the string, incrementing length by 1 in each iteration.\n",
    "# After the loop, length will contain the total number of characters in the string.\n",
    "\n",
    "# 9. Write a program that calculates the average of a list of numbers using a for loop.\n",
    "print(\"Output of the Q-9)\")\n",
    "numbers = [1, 2, 3, 4, 5]\n",
    "sum = 0\n",
    "count = 0\n",
    "for num in numbers:\n",
    "    sum += num\n",
    "    count += 1\n",
    "average = sum / count\n",
    "print(\"Average:\", average)\n",
    "# We initialize sum and count to 0.\n",
    "# The for loop iterates through the numbers list, adding each number to sum and incrementing count.\n",
    "# The average is calculated by dividing the sum by the count, and the result is printed.\n",
    "\n",
    "# 10. Develop a program that prints the first n Fibonacci numbers using a for loop.\n",
    "print(\"Output of the Q-10)\")\n",
    "n = 7\n",
    "a, b = 0, 1\n",
    "for i in range(n):\n",
    "    print(a, end=\" \")\n",
    "    a, b = b, a + b\n",
    "\n",
    "\n",
    "print('We define two variables a and b, initialized to 0 and 1, which will store the first two Fibonacci numbers.The for loop runs n times, and in each iteration, we print the current value of a (the Fibonacci number).Then, we update a and b to the next two Fibonacci numbers by setting a to b, and b to a + b.')"
   ]
  },
  {
   "cell_type": "markdown",
   "metadata": {},
   "source": [
    "- Intermediate Level"
   ]
  },
  {
   "cell_type": "code",
   "execution_count": null,
   "metadata": {},
   "outputs": [
    {
     "name": "stdout",
     "output_type": "stream",
     "text": [
      "Duplicate found: 2\n"
     ]
    }
   ],
   "source": [
    "#11. Write a program to check if a given list contains any duplicates using a for loop.\n",
    "numbers = [1,2,3,4,2,1]\n",
    "seen = set()\n",
    "for num in numbers:\n",
    "    if num in seen:\n",
    "        print(\"Duplicate found:\", num)\n",
    "        break\n",
    "    seen.add(num)\n",
    "else:\n",
    "    print(\"No duplicates found.\")\n",
    "    \n"
   ]
  },
  {
   "cell_type": "markdown",
   "metadata": {},
   "source": [
    "I iterate through each number in the list numbers.\n",
    "I use a set called seen to track the numbers that have already appeared in the list.\n",
    "If a number is already in seen, it's a duplicate, and I print it and exit the loop using break.\n",
    "If no duplicates are found, the else block executes, and I print \"No duplicates found.\""
   ]
  },
  {
   "cell_type": "code",
   "execution_count": null,
   "metadata": {},
   "outputs": [
    {
     "name": "stdout",
     "output_type": "stream",
     "text": [
      "11\n",
      "13\n",
      "17\n",
      "19\n"
     ]
    }
   ],
   "source": [
    "#12. Create a program that prints the prime numbers in a given range using a for loop.\n",
    "start, end = int(input()), int(input())\n",
    "for num in range(start, end + 1):\n",
    "    is_prime = True\n",
    "    for i in range(2, num):\n",
    "        if num % i == 0:\n",
    "            is_prime = False\n",
    "            break\n",
    "    if is_prime and num > 1:\n",
    "        print(num)\n"
   ]
  },
  {
   "cell_type": "markdown",
   "metadata": {},
   "source": [
    "I loop through the numbers from start to end.\n",
    "For each number, I check if it is divisible by any number from 2 to itself minus 1.\n",
    "If no divisor is found, the number is prime, and I print it. Used input() function so user can put values by themselves"
   ]
  },
  {
   "cell_type": "code",
   "execution_count": null,
   "metadata": {},
   "outputs": [
    {
     "name": "stdout",
     "output_type": "stream",
     "text": [
      "Number of vowels: 3\n"
     ]
    }
   ],
   "source": [
    "#13. Develop a program that counts the number of vowels in a string using a for loop.\n",
    "string = \"hello world\"\n",
    "vowels = \"aeiou\"\n",
    "vowel_count = 0\n",
    "for char in string:\n",
    "    if char in vowels:\n",
    "        vowel_count += 1\n",
    "print(\"Number of vowels:\", vowel_count)\n"
   ]
  },
  {
   "cell_type": "markdown",
   "metadata": {},
   "source": [
    "I define a string vowels containing all the vowels.\n",
    "I initialize vowel_count to 0 and iterate through each character in the string.\n",
    "If the character is a vowel (present in the vowels string), I increment vowel_count.\n",
    "Finally, I print the total count of vowels."
   ]
  },
  {
   "cell_type": "code",
   "execution_count": 39,
   "metadata": {},
   "outputs": [
    {
     "name": "stdout",
     "output_type": "stream",
     "text": [
      "Maximum value: 9\n"
     ]
    }
   ],
   "source": [
    "#14. Write a program to find the maximum element in a 2D list using a nested for loop.\n",
    "matrix = [[1, 2, 3], [4, 5, 6], [7, 8, 9]]\n",
    "max_value = matrix[0][0]\n",
    "for row in matrix:\n",
    "    for element in row:\n",
    "        if element > max_value:\n",
    "            max_value = element\n",
    "print(\"Maximum value:\", max_value)\n"
   ]
  },
  {
   "cell_type": "markdown",
   "metadata": {},
   "source": [
    "I initialize max_value with the first element of the 2D list.\n",
    "I use two for loops to iterate over each row and each element within the row.\n",
    "If I find an element larger than max_value, I update max_value.\n",
    "After the loops complete, the largest element is printed."
   ]
  },
  {
   "cell_type": "code",
   "execution_count": 40,
   "metadata": {},
   "outputs": [
    {
     "name": "stdout",
     "output_type": "stream",
     "text": [
      "Updated list: [1, 3, 4, 5, 6]\n"
     ]
    }
   ],
   "source": [
    "#15. Create a program that removes all occurrences of a specific element from a list using a for loop.\n",
    "numbers = [1, 2, 3, 4, 5, 2, 6]\n",
    "element_to_remove = 2\n",
    "result = []\n",
    "for num in numbers:\n",
    "    if num != element_to_remove:\n",
    "        result.append(num)\n",
    "print(\"Updated list:\", result)\n"
   ]
  },
  {
   "cell_type": "markdown",
   "metadata": {},
   "source": [
    "I initialize an empty list result to store the filtered elements.\n",
    "The for loop goes through each element in the numbers list. If the element is not equal to the one we want to remove,I append it to result.\n",
    "Finally, I print the updated list, which has all occurrences of the specified element removed."
   ]
  },
  {
   "cell_type": "code",
   "execution_count": 41,
   "metadata": {},
   "outputs": [
    {
     "name": "stdout",
     "output_type": "stream",
     "text": [
      "1 x 1 = 1\t1 x 2 = 2\t1 x 3 = 3\t1 x 4 = 4\t1 x 5 = 5\t\n",
      "2 x 1 = 2\t2 x 2 = 4\t2 x 3 = 6\t2 x 4 = 8\t2 x 5 = 10\t\n",
      "3 x 1 = 3\t3 x 2 = 6\t3 x 3 = 9\t3 x 4 = 12\t3 x 5 = 15\t\n",
      "4 x 1 = 4\t4 x 2 = 8\t4 x 3 = 12\t4 x 4 = 16\t4 x 5 = 20\t\n",
      "5 x 1 = 5\t5 x 2 = 10\t5 x 3 = 15\t5 x 4 = 20\t5 x 5 = 25\t\n"
     ]
    }
   ],
   "source": [
    "#16. Develop a program that generates a multiplication table for numbers from 1 to 5 using a nested for loop.\n",
    "for i in range(1, 6):\n",
    "    for j in range(1, 6):\n",
    "        print(f\"{i} x {j} = {i * j}\", end=\"\\t\")\n",
    "    print()\n"
   ]
  },
  {
   "cell_type": "markdown",
   "metadata": {},
   "source": [
    "I use two nested for loops to generate the multiplication table.\n",
    "The outer loop iterates through numbers 1 to 5, and the inner loop iterates through numbers 1 to 5.\n",
    "For each pair of numbers i and j, I print the result of i * j.\n",
    "The end=\"\\t\" ensures the table is printed neatly with tabs between values, and print() adds a new line after each row."
   ]
  },
  {
   "cell_type": "code",
   "execution_count": 45,
   "metadata": {},
   "outputs": [
    {
     "name": "stdout",
     "output_type": "stream",
     "text": [
      "Celsius temperatures: [0.0, 7.222222222222222, 10.0, 15.555555555555555, 22.22222222222222]\n"
     ]
    }
   ],
   "source": [
    "#17. Write a program that converts a list of Fahrenheit temperatures to Celsius using a for loop.\n",
    "fahrenheit = [32, 45, 50, 60, 72]\n",
    "celsius = []\n",
    "for temp in fahrenheit:\n",
    "    celsius.append((temp - 32) * 5/9)\n",
    "print(\"Celsius temperatures:\", celsius)\n"
   ]
  },
  {
   "cell_type": "markdown",
   "metadata": {},
   "source": [
    "I define a list fahrenheit containing temperature values in Fahrenheit.\n",
    "I initialize an empty list celsius to store the converted values.\n",
    "For each temperature in fahrenheit, I apply the formula (temp - 32) * 5/9 to convert it to Celsius and append the result to the celsius list.\n",
    "Finally, I print the list of Celsius temperatures."
   ]
  },
  {
   "cell_type": "code",
   "execution_count": 46,
   "metadata": {},
   "outputs": [
    {
     "name": "stdout",
     "output_type": "stream",
     "text": [
      "Common elements: [3, 4]\n"
     ]
    }
   ],
   "source": [
    "#18. Create a program to print the common elements from two lists using a for loop.\n",
    "list1 = [1, 2, 3, 4]\n",
    "list2 = [3, 4, 5, 6]\n",
    "common_elements = []\n",
    "for element in list1:\n",
    "    if element in list2:\n",
    "        common_elements.append(element)\n",
    "print(\"Common elements:\", common_elements)\n"
   ]
  },
  {
   "cell_type": "markdown",
   "metadata": {},
   "source": [
    "I define two lists list1 and list2.\n",
    "An empty list common_elements is initialized to store the common values.\n",
    "I iterate through list1 and check if each element is present in list2. If it is, I append it to common_elements.\n",
    "Finally, i print the list of common elements."
   ]
  },
  {
   "cell_type": "code",
   "execution_count": 47,
   "metadata": {},
   "outputs": [
    {
     "name": "stdout",
     "output_type": "stream",
     "text": [
      "*\n",
      "**\n",
      "***\n",
      "****\n",
      "*****\n"
     ]
    }
   ],
   "source": [
    "#19. Develop a program that prints the pattern of right-angled triangles using a for loop. Use ‘*’ to draw the pattern.\n",
    "rows = 5\n",
    "for i in range(1, rows + 1):\n",
    "    print('*' * i)\n"
   ]
  },
  {
   "cell_type": "markdown",
   "metadata": {},
   "source": [
    "The outer for loop runs from 1 to rows (5 in this case).\n",
    "In each iteration, we print i stars ('*' * i), where i corresponds to the current row number.\n",
    "This results in a right-angled triangle pattern of stars."
   ]
  },
  {
   "cell_type": "code",
   "execution_count": 48,
   "metadata": {},
   "outputs": [
    {
     "name": "stdout",
     "output_type": "stream",
     "text": [
      "GCD: 14\n"
     ]
    }
   ],
   "source": [
    "#20. Write a program to find the greatest common divisor (GCD) of two numbers using a for loop.\n",
    "a = 56\n",
    "b = 98\n",
    "gcd = 1\n",
    "for i in range(1, min(a, b) + 1):\n",
    "    if a % i == 0 and b % i == 0:\n",
    "        gcd = i\n",
    "print(\"GCD:\", gcd)\n"
   ]
  },
  {
   "cell_type": "markdown",
   "metadata": {},
   "source": [
    "I initialize gcd to 1.\n",
    "I iterate over the range from 1 to the smaller of the two numbers (min(a, b)).\n",
    "In each iteration, I check if both a and b are divisible by the current number i. If they are, I update gcd to i.\n",
    "Finally, I print the greatest common divisor."
   ]
  },
  {
   "cell_type": "markdown",
   "metadata": {},
   "source": [
    "* Advance Level"
   ]
  },
  {
   "cell_type": "code",
   "execution_count": null,
   "metadata": {},
   "outputs": [],
   "source": [
    "#21.Create a program that calculates the sum of Digits of Numbers in a List Using List Comprehension\n",
    "numbers = [123, 456, 789]  \n",
    "sum_of_digits = [sum(int(digit) for digit in str(num)) for num in numbers]\n",
    "\n",
    "print(sum_of_digits) "
   ]
  },
  {
   "cell_type": "markdown",
   "metadata": {},
   "source": [
    "- Step 1: Define a list of numbers.\n",
    "- Step 2: Use a list comprehension to process each number in the list:\n",
    "Convert the number to a string: `str(num)`\n",
    "Iterate over each digit in the string: `for digit in str(num)`\n",
    "Convert each digit back to an integer: `int(digit)`\n",
    "Compute the sum of these integers: `sum(...)`\n",
    "Store the result for each number in the new list.\n",
    "- Step 3: Print the list of sums.\n"
   ]
  },
  {
   "cell_type": "code",
   "execution_count": null,
   "metadata": {},
   "outputs": [],
   "source": [
    "#22. Write a program to find the prime factors of a given number using a `for` loop and list comprehension\n",
    "def is_prime(n):  \n",
    "    if n < 2:  \n",
    "        return False\n",
    "    for i in range(2, int(n**0.5) + 1): \n",
    "        if n % i == 0:  \n",
    "            return False\n",
    "    return True   \n",
    "\n",
    "def prime_factors(num):  \n",
    "    return [i for i in range(2, num + 1) if num % i == 0 and is_prime(i)]\n",
    "   \n",
    "\n",
    "print(prime_factors(56))  \n"
   ]
  },
  {
   "cell_type": "markdown",
   "metadata": {},
   "source": [
    "- Step 1: Define a function to check if a number is prime.\n",
    "- Step 2: Return `False` for numbers less than 2.\n",
    "- Step 3: Check divisors up to √n.\n",
    "- Step 4: If divisible, it's not prime.\n",
    "- Step 5: If no divisors found, return `True`.\n",
    "- Step 6: Define a function to find prime factors.\n",
    "    - Iterate over numbers from 2 to `num`.\n",
    "    - Check if `num` is divisible by `i` (`num % i == 0`).\n",
    "    - Check if `i` is prime using `is_prime`.\n",
    "- Step 7: Call the function and print the result.\n",
    "\n"
   ]
  },
  {
   "cell_type": "code",
   "execution_count": null,
   "metadata": {},
   "outputs": [],
   "source": [
    "#23. Develop a program that extracts unique elements from a list and stores them in a new list using a list comprehension.\n",
    "original_list = [1, 2, 2, 3, 4, 4, 5]  \n",
    "unique_elements = [x for i, x in enumerate(original_list) if x not in original_list[:i]]\n",
    "print(unique_elements)  \n"
   ]
  },
  {
   "cell_type": "markdown",
   "metadata": {},
   "source": [
    "- Step 1: Define the input list.\n",
    "- Step 2: Iterate over `original_list` with `enumerate` to track the index (`i`) and value (`x`).\n",
    "- Step 3: For each `x`, check if it has not appeared in the list before index `i` (`x not in original_list[:i]`).\n",
    "- Step 4: Include only such elements in the new list.\n",
    "- Step 5: Print the list of unique elements."
   ]
  },
  {
   "cell_type": "code",
   "execution_count": null,
   "metadata": {},
   "outputs": [],
   "source": [
    "# 24. Create a program that generates a list of all palindromic numbers up to a specified limit using a list comprehension.\n",
    "limit = 200  \n",
    "palindromic_numbers = [num for num in range(limit + 1) if str(num) == str(num)[::-1]]\n",
    "print(palindromic_numbers) \n"
   ]
  },
  {
   "cell_type": "markdown",
   "metadata": {},
   "source": [
    "- Step 1: Define the upper limit for palindromic numbers.\n",
    "- Step 2: Iterate over all numbers from 0 to `limit`.\n",
    "- Step 3: Convert each number to a string using `str(num)`.\n",
    "- Step 4: Check if the string is equal to its reverse (`str(num)[::-1]`).\n",
    "- Step 5: Include only palindromic numbers in the new list.\n",
    "-Step 6: Print the list of palindromic numbers."
   ]
  },
  {
   "cell_type": "code",
   "execution_count": null,
   "metadata": {},
   "outputs": [],
   "source": [
    "#  25. Write a program to flatten a nested list using list comprehension.\n",
    "nested_list = [[1, 2], [3, 4], [5]]  \n",
    "flattened_list = [item for sublist in nested_list for item in sublist]\n",
    "print(flattened_list)  \n",
    "\n"
   ]
  },
  {
   "cell_type": "markdown",
   "metadata": {},
   "source": [
    "- Step 1: Define the nested list.\n",
    "- Step 2: Use two nested `for` loops in the list comprehension:\n",
    "   - Outer loop: Iterate over each sublist in `nested_list`.\n",
    "   - Inner loop: Iterate over each `item` in the current `sublist`.\n",
    "   - Add each `item` to the new flattened list.\n",
    "- Step 3: Print the flattened list.\n"
   ]
  },
  {
   "cell_type": "code",
   "execution_count": null,
   "metadata": {},
   "outputs": [],
   "source": [
    "#  26. Develop a program that computes the sum of even and odd numbers in a list separately using list comprehension.\n",
    "numbers = [1, 2, 3, 4, 5, 6]  \n",
    "even_sum = sum([num for num in numbers if num % 2 == 0])\n",
    "odd_sum = sum([num for num in numbers if num % 2 != 0])\n",
    "print(even_sum, odd_sum)  \n"
   ]
  },
  {
   "cell_type": "markdown",
   "metadata": {},
   "source": [
    "- Step 1: Define the list of numbers.\n",
    "- Step 2: Use a list comprehension to filter even numbers (`num % 2 == 0`).\n",
    "- Step 3: Compute the sum of the filtered list using `sum()`.\n",
    "- Step 4: Use a list comprehension to filter odd numbers (`num % 2 != 0`).\n",
    "- Step 5: Compute the sum of the filtered list using `sum()`.\n",
    "- Step 6: Print the sums of even and odd numbers.\n",
    "\n"
   ]
  },
  {
   "cell_type": "code",
   "execution_count": null,
   "metadata": {},
   "outputs": [],
   "source": [
    "#  27. Create a program that generates a list of squares of odd numbers between 1 and 10 using list comprehension.\n",
    "squares_of_odds = [x**2 for x in range(1, 11) if x % 2 != 0]\n",
    "print(squares_of_odds)  \n"
   ]
  },
  {
   "cell_type": "markdown",
   "metadata": {},
   "source": [
    "- Step 1: Iterate over numbers from 1 to 10 using `range(1, 11)`.\n",
    "- Step 2: Filter odd numbers (`x % 2 != 0`).\n",
    "- Step 3: Compute the square of each filtered number (`x**2`).\n",
    "- Step 4: Store the results in the new list.\n",
    "- Step 5: Print the list of squares of odd numbers."
   ]
  },
  {
   "cell_type": "code",
   "execution_count": 1,
   "metadata": {},
   "outputs": [
    {
     "name": "stdout",
     "output_type": "stream",
     "text": [
      "{'a': 1, 'b': 2, 'c': 3}\n"
     ]
    }
   ],
   "source": [
    "#  28. Write a program that combines two lists into a dictionary using list comprehension.\n",
    "keys = ['a', 'b', 'c']  \n",
    "values = [1, 2, 3]  \n",
    "combined_dict = {k: v for k, v in zip(keys, values)}\n",
    "print(combined_dict)  \n"
   ]
  },
  {
   "cell_type": "markdown",
   "metadata": {},
   "source": [
    "- Step 1: Define the list of keys.\n",
    "- Step 2: Define the list of values.\n",
    "- Step 3: Use `zip` to pair elements of `keys` and `values`.\n",
    "- Step 4: Create a dictionary where each key-value pair is derived from `zip`.\n",
    "- Step 5: Print the resulting dictionary."
   ]
  },
  {
   "cell_type": "code",
   "execution_count": null,
   "metadata": {},
   "outputs": [],
   "source": [
    "#  29. Develop a program that extracts the vowels from a string and stores them in a list using list comprehension.\n",
    "text = \"hello world\"\n",
    "vowels = [char for char in text if char in \"aeiou\"]\n",
    "print(vowels)  \n"
   ]
  },
  {
   "cell_type": "markdown",
   "metadata": {},
   "source": [
    "- Step 1: Define the input string.\n",
    "- Step 2: Iterate over each character in `text`.\n",
    "- Step 3: Check if the character is in the set of vowels (`\"aeiou\"`).\n",
    "- Step 4: Include only vowels in the new list.\n",
    "- Step 5: Print the list of vowels."
   ]
  },
  {
   "cell_type": "code",
   "execution_count": null,
   "metadata": {},
   "outputs": [],
   "source": [
    "#  30. Create a program that removes all non-numeric characters from a list of strings using list comprehension.\n",
    "\n",
    "string_list = [\"123\", \"abc\", \"45\", \"67def\"]  \n",
    "numeric_strings = [s for s in string_list if s.isdigit()]\n",
    "print(numeric_strings)  \n"
   ]
  },
  {
   "cell_type": "markdown",
   "metadata": {},
   "source": [
    "- Step 1: Define the list of strings.\n",
    "- Step 2: Iterate over each string in `string_list`.\n",
    "- Step 3: Check if the string contains only numeric characters using `s.isdigit()`.\n",
    "- Step 4: Include only numeric strings in the new list.\n",
    "- Step 5: Print the list of numeric strings."
   ]
  },
  {
   "cell_type": "markdown",
   "metadata": {},
   "source": [
    "# Challenge Level"
   ]
  },
  {
   "cell_type": "code",
   "execution_count": 2,
   "metadata": {},
   "outputs": [
    {
     "name": "stdout",
     "output_type": "stream",
     "text": [
      "[2, 3, 5, 7, 11, 13, 17, 19, 23, 29, 31, 37, 41, 43, 47]\n"
     ]
    }
   ],
   "source": [
    "#31. Write a program to generate a list of prime numbers using the Sieve of Eratosthenes algorithm and list comprehension. \n",
    "\n",
    "limit = 50  \n",
    "sieve = [True] * (limit + 1)  \n",
    "sieve[0] = sieve[1] = False  \n",
    "for i in range(2, int(limit**0.5) + 1):  \n",
    "    if sieve[i]:  \n",
    "        for j in range(i * i, limit + 1, i):  \n",
    "            sieve[j] = False\n",
    "\n",
    "primes = [num for num, is_prime in enumerate(sieve) if is_prime]\n",
    "print(primes)  "
   ]
  },
  {
   "cell_type": "markdown",
   "metadata": {},
   "source": [
    "- Step 1: Define the upper limit for prime numbers.\n",
    "- Step 2: Create a list to mark numbers as prime or not.\n",
    "- Step 3: Mark 0 and 1 as not prime.\n",
    "- Step 4: Iterate from 2 to √limit.\n",
    "- Step 5: If the number is marked as prime:\n",
    "- Step 6: Mark its multiples as not prime.\n",
    "- Step 7: Use list comprehension to extract all indices marked as `True` (prime numbers).\n",
    "- Output: List of prime numbers up to `limit`.\n"
   ]
  },
  {
   "cell_type": "code",
   "execution_count": 3,
   "metadata": {},
   "outputs": [
    {
     "name": "stdout",
     "output_type": "stream",
     "text": [
      "[(3, 4, 5), (5, 12, 13), (6, 8, 10), (7, 24, 25), (8, 15, 17), (9, 12, 15), (10, 24, 26), (12, 16, 20), (15, 20, 25), (20, 21, 29)]\n"
     ]
    }
   ],
   "source": [
    "#32. Create a program that generates a list of all Pythagorean triplets up to a specified limit using list  comprehension.  \n",
    "limit = 30  \n",
    "triplets = [(a, b, c) for a in range(1, limit) for b in range(a, limit)\n",
    "            for c in range(b, limit) if a**2 + b**2 == c**2]\n",
    "print(triplets)  "
   ]
  },
  {
   "cell_type": "markdown",
   "metadata": {},
   "source": [
    "- Step 1: Define the upper limit for the triplets.\n",
    "- Step 2: Iterate over possible values of `a`, `b`, and `c`.\n",
    "- Step 3: Include triplets where a² + b² = c².\n",
    "- Output: List of Pythagorean triplets up to the limit.\n",
    "\n"
   ]
  },
  {
   "cell_type": "code",
   "execution_count": 4,
   "metadata": {},
   "outputs": [
    {
     "name": "stdout",
     "output_type": "stream",
     "text": [
      "[(1, 'a'), (1, 'b'), (1, 'c'), (2, 'a'), (2, 'b'), (2, 'c'), (3, 'a'), (3, 'b'), (3, 'c')]\n"
     ]
    }
   ],
   "source": [
    "#33. Develop a program that generates a list of all possible combinations of two lists using list comprehension. \n",
    "list1 = [1, 2, 3]  \n",
    "list2 = ['a', 'b', 'c']  \n",
    "combinations = [(x, y) for x in list1 for y in list2]\n",
    "print(combinations)"
   ]
  },
  {
   "cell_type": "markdown",
   "metadata": {},
   "source": [
    "- Step 1: Define the first list.\n",
    "- Step 2: Define the second list.\n",
    "- Step 3: Iterate over all elements in `list1` and `list2` to form pairs.\n",
    "- Output: List of all combinations of elements from the two lists.\n"
   ]
  },
  {
   "cell_type": "code",
   "execution_count": 5,
   "metadata": {},
   "outputs": [
    {
     "name": "stdout",
     "output_type": "stream",
     "text": [
      "3.6666666666666665 4 5\n"
     ]
    }
   ],
   "source": [
    "#34. Write a program that calculates the mean, median, and mode of a list of numbers using list comprehension. \n",
    "from statistics import mean, median, mode  \n",
    "\n",
    "numbers = [1, 2, 2, 3, 4, 5, 5, 5, 6]  \n",
    "\n",
    "mean_val = mean(numbers)  \n",
    "median_val = median(numbers)  \n",
    "mode_val = mode(numbers)  \n",
    "\n",
    "print(mean_val, median_val, mode_val)  \n"
   ]
  },
  {
   "cell_type": "markdown",
   "metadata": {},
   "source": [
    "- Step 1: Import required functions.\n",
    "- Step 2: Define the list of numbers.\n",
    "- Step 3: Calculate the mean.\n",
    "- Step 4: Calculate the median.\n",
    "- Step 5: Calculate the mode.\n",
    "- Step 6: Print the results."
   ]
  },
  {
   "cell_type": "code",
   "execution_count": null,
   "metadata": {},
   "outputs": [],
   "source": [
    "#35. Create a program that generates Pascal's triangle up to a specified number of rows using list comprehension.\n",
    "rows = 5  \n",
    "triangle = [[1 if col == 0 or col == row else triangle[row - 1][col - 1] + triangle[row - 1][col]\n",
    "             for col in range(row + 1)] for row in range(rows)]\n",
    "print(triangle)  "
   ]
  },
  {
   "cell_type": "markdown",
   "metadata": {},
   "source": [
    "- Step 1: Define the number of rows for Pascal's triangle.\n",
    "- Step 2: Use nested list comprehensions:\n",
    "  - Outer loop: Iterate over rows.\n",
    "  - Inner loop: Compute values based on the sum of two numbers above in the previous row.\n",
    "- Step 3: Print Pascal's triangle.\n"
   ]
  },
  {
   "cell_type": "code",
   "execution_count": 6,
   "metadata": {},
   "outputs": [
    {
     "name": "stdout",
     "output_type": "stream",
     "text": [
      "[1, 2, 6, 6, 3]\n"
     ]
    }
   ],
   "source": [
    "#36. Develop a program that calculates the sum of the digits of a factorial of numbers from 1 to 5 using list comprehension.\n",
    "from math import factorial  \n",
    "sums = [sum(int(digit) for digit in str(factorial(i))) for i in range(1, 6)]\n",
    "print(sums)  \n"
   ]
  },
  {
   "cell_type": "markdown",
   "metadata": {},
   "source": [
    "- Step 1: Import the factorial function.\n",
    "- Step 2: For each number from 1 to 5:\n",
    "   - Compute its factorial.\n",
    "   - Convert the factorial to a string.\n",
    "   - Compute the sum of its digits using a list comprehension.\n",
    "- Step 3: Print the sums of the digits."
   ]
  },
  {
   "cell_type": "code",
   "execution_count": 7,
   "metadata": {},
   "outputs": [
    {
     "name": "stdout",
     "output_type": "stream",
     "text": [
      "sentence\n"
     ]
    }
   ],
   "source": [
    "#37. Write a program that finds the longest word in a sentence using list comprehension.\n",
    "sentence = \"Find the longest word in this sentence\"  \n",
    "words = sentence.split()  \n",
    "longest_word = max(words, key=len)  \n",
    "print(longest_word)  \n"
   ]
  },
  {
   "cell_type": "markdown",
   "metadata": {},
   "source": [
    "- Step 1: Define the sentence.\n",
    "- Step 2: Split the sentence into words.\n",
    "- Step 3: Use `max()` with `key=len` to find the longest word.\n",
    "- Step 4: Print the longest word."
   ]
  },
  {
   "cell_type": "code",
   "execution_count": 8,
   "metadata": {},
   "outputs": [
    {
     "name": "stdout",
     "output_type": "stream",
     "text": [
      "['beautiful']\n"
     ]
    }
   ],
   "source": [
    "#38. Create a program that filters a list of strings to include only those with more than three vowels using list comprehension. \n",
    "strings = [\"hello\", \"world\", \"beautiful\", \"sky\"]  \n",
    "vowel_strings = [s for s in strings if sum(1 for char in s if char in \"aeiou\") > 3]\n",
    "print(vowel_strings)  "
   ]
  },
  {
   "cell_type": "markdown",
   "metadata": {},
   "source": [
    "- Step 1: Define the list of strings.\n",
    "- Step 2: Use a list comprehension to filter strings:\n",
    "   - For each string, count the vowels.\n",
    "   - Include only those strings with more than 3 vowels.\n",
    "- Step 3: Print the filtered list.\n"
   ]
  },
  {
   "cell_type": "code",
   "execution_count": 9,
   "metadata": {},
   "outputs": [
    {
     "name": "stdout",
     "output_type": "stream",
     "text": [
      "[1, 2, 3, 4, 5, 6, 7, 8, 9, 1, 2, 3, 4, 5, 6, 7, 8, 9, 10, 2, 3, 4, 5, 6, 7, 8, 9, 10, 11, 3, 4, 5, 6, 7, 8, 9, 10, 11, 12, 4, 5, 6, 7, 8, 9, 10, 11, 12, 13, 5, 6, 7, 8, 9, 10, 11, 12, 13, 14, 6, 7, 8, 9, 10, 11, 12, 13, 14, 15, 7, 8, 9, 10, 11, 12, 13, 14, 15, 16, 8, 9, 10, 11, 12, 13, 14, 15, 16, 17, 9, 10, 11, 12, 13, 14, 15, 16, 17, 18, 1, 2, 3, 4, 5, 6, 7, 8, 9, 10, 2, 3, 4, 5, 6, 7, 8, 9, 10, 11, 3, 4, 5, 6, 7, 8, 9, 10, 11, 12, 4, 5, 6, 7, 8, 9, 10, 11, 12, 13, 5, 6, 7, 8, 9, 10, 11, 12, 13, 14, 6, 7, 8, 9, 10, 11, 12, 13, 14, 15, 7, 8, 9, 10, 11, 12, 13, 14, 15, 16, 8, 9, 10, 11, 12, 13, 14, 15, 16, 17, 9, 10, 11, 12, 13, 14, 15, 16, 17, 18, 10, 11, 12, 13, 14, 15, 16, 17, 18, 19, 2, 3, 4, 5, 6, 7, 8, 9, 10, 11, 3, 4, 5, 6, 7, 8, 9, 10, 11, 12, 4, 5, 6, 7, 8, 9, 10, 11, 12, 13, 5, 6, 7, 8, 9, 10, 11, 12, 13, 14, 6, 7, 8, 9, 10, 11, 12, 13, 14, 15, 7, 8, 9, 10, 11, 12, 13, 14, 15, 16, 8, 9, 10, 11, 12, 13, 14, 15, 16, 17, 9, 10, 11, 12, 13, 14, 15, 16, 17, 18, 10, 11, 12, 13, 14, 15, 16, 17, 18, 19, 11, 12, 13, 14, 15, 16, 17, 18, 19, 20, 3, 4, 5, 6, 7, 8, 9, 10, 11, 12, 4, 5, 6, 7, 8, 9, 10, 11, 12, 13, 5, 6, 7, 8, 9, 10, 11, 12, 13, 14, 6, 7, 8, 9, 10, 11, 12, 13, 14, 15, 7, 8, 9, 10, 11, 12, 13, 14, 15, 16, 8, 9, 10, 11, 12, 13, 14, 15, 16, 17, 9, 10, 11, 12, 13, 14, 15, 16, 17, 18, 10, 11, 12, 13, 14, 15, 16, 17, 18, 19, 11, 12, 13, 14, 15, 16, 17, 18, 19, 20, 12, 13, 14, 15, 16, 17, 18, 19, 20, 21, 4, 5, 6, 7, 8, 9, 10, 11, 12, 13, 5, 6, 7, 8, 9, 10, 11, 12, 13, 14, 6, 7, 8, 9, 10, 11, 12, 13, 14, 15, 7, 8, 9, 10, 11, 12, 13, 14, 15, 16, 8, 9, 10, 11, 12, 13, 14, 15, 16, 17, 9, 10, 11, 12, 13, 14, 15, 16, 17, 18, 10, 11, 12, 13, 14, 15, 16, 17, 18, 19, 11, 12, 13, 14, 15, 16, 17, 18, 19, 20, 12, 13, 14, 15, 16, 17, 18, 19, 20, 21, 13, 14, 15, 16, 17, 18, 19, 20, 21, 22, 5, 6, 7, 8, 9, 10, 11, 12, 13, 14, 6, 7, 8, 9, 10, 11, 12, 13, 14, 15, 7, 8, 9, 10, 11, 12, 13, 14, 15, 16, 8, 9, 10, 11, 12, 13, 14, 15, 16, 17, 9, 10, 11, 12, 13, 14, 15, 16, 17, 18, 10, 11, 12, 13, 14, 15, 16, 17, 18, 19, 11, 12, 13, 14, 15, 16, 17, 18, 19, 20, 12, 13, 14, 15, 16, 17, 18, 19, 20, 21, 13, 14, 15, 16, 17, 18, 19, 20, 21, 22, 14, 15, 16, 17, 18, 19, 20, 21, 22, 23, 6, 7, 8, 9, 10, 11, 12, 13, 14, 15, 7, 8, 9, 10, 11, 12, 13, 14, 15, 16, 8, 9, 10, 11, 12, 13, 14, 15, 16, 17, 9, 10, 11, 12, 13, 14, 15, 16, 17, 18, 10, 11, 12, 13, 14, 15, 16, 17, 18, 19, 11, 12, 13, 14, 15, 16, 17, 18, 19, 20, 12, 13, 14, 15, 16, 17, 18, 19, 20, 21, 13, 14, 15, 16, 17, 18, 19, 20, 21, 22, 14, 15, 16, 17, 18, 19, 20, 21, 22, 23, 15, 16, 17, 18, 19, 20, 21, 22, 23, 24, 7, 8, 9, 10, 11, 12, 13, 14, 15, 16, 8, 9, 10, 11, 12, 13, 14, 15, 16, 17, 9, 10, 11, 12, 13, 14, 15, 16, 17, 18, 10, 11, 12, 13, 14, 15, 16, 17, 18, 19, 11, 12, 13, 14, 15, 16, 17, 18, 19, 20, 12, 13, 14, 15, 16, 17, 18, 19, 20, 21, 13, 14, 15, 16, 17, 18, 19, 20, 21, 22, 14, 15, 16, 17, 18, 19, 20, 21, 22, 23, 15, 16, 17, 18, 19, 20, 21, 22, 23, 24, 16, 17, 18, 19, 20, 21, 22, 23, 24, 25, 8, 9, 10, 11, 12, 13, 14, 15, 16, 17, 9, 10, 11, 12, 13, 14, 15, 16, 17, 18, 10, 11, 12, 13, 14, 15, 16, 17, 18, 19, 11, 12, 13, 14, 15, 16, 17, 18, 19, 20, 12, 13, 14, 15, 16, 17, 18, 19, 20, 21, 13, 14, 15, 16, 17, 18, 19, 20, 21, 22, 14, 15, 16, 17, 18, 19, 20, 21, 22, 23, 15, 16, 17, 18, 19, 20, 21, 22, 23, 24, 16, 17, 18, 19, 20, 21, 22, 23, 24, 25, 17, 18, 19, 20, 21, 22, 23, 24, 25, 26, 9, 10, 11, 12, 13, 14, 15, 16, 17, 18, 10, 11, 12, 13, 14, 15, 16, 17, 18, 19, 11, 12, 13, 14, 15, 16, 17, 18, 19, 20, 12, 13, 14, 15, 16, 17, 18, 19, 20, 21, 13, 14, 15, 16, 17, 18, 19, 20, 21, 22, 14, 15, 16, 17, 18, 19, 20, 21, 22, 23, 15, 16, 17, 18, 19, 20, 21, 22, 23, 24, 16, 17, 18, 19, 20, 21, 22, 23, 24, 25, 17, 18, 19, 20, 21, 22, 23, 24, 25, 26, 18, 19, 20, 21, 22, 23, 24, 25, 26, 27, 1]\n"
     ]
    }
   ],
   "source": [
    "#39. Develop a program that calculates the sum of the digits of numbers from 1 to 1000 using list comprehension.\n",
    "sums = [sum(int(digit) for digit in str(num)) for num in range(1, 1001)]\n",
    "print(sums) \n"
   ]
  },
  {
   "cell_type": "markdown",
   "metadata": {},
   "source": [
    "- Step 1: Iterate over numbers from 1 to 1000.\n",
    "- Step 2: Convert each number to a string.\n",
    "- Step 3: Sum its digits using a list comprehension.\n",
    "- Step 4: Print the list of sums."
   ]
  },
  {
   "cell_type": "code",
   "execution_count": null,
   "metadata": {},
   "outputs": [
    {
     "name": "stdout",
     "output_type": "stream",
     "text": [
      "[2, 3, 5, 7, 11, 101, 131, 151, 181, 191, 313, 353, 373, 383, 727, 757, 787, 797, 919, 929]\n"
     ]
    }
   ],
   "source": [
    "#40. Write a program that generates a list of prime palindromic numbers using list comprehension\n",
    "def is_prime(n):  \n",
    "    if n < 2: return False\n",
    "    return all(n % i != 0 for i in range(2, int(n**0.5) + 1))\n",
    "\n",
    "limit = 1000                                                            \n",
    "prime_palindromes = [num for num in range(limit + 1) if str(num) == str(num)[::-1] and is_prime(num)]\n",
    "print(prime_palindromes) "
   ]
  },
  {
   "cell_type": "markdown",
   "metadata": {},
   "source": [
    "- Step 1: Define a function to check for prime numbers.\n",
    "- Step 2: Define the upper limit.\n",
    "- Step 3: Use list comprehension:\n",
    "   - Check if the number is a palindrome.\n",
    "   - Check if it is prime.\n",
    "- Step 4: Print the list of prime palindromic numbers.\n"
   ]
  }
 ],
 "metadata": {
  "kernelspec": {
   "display_name": "Python 3",
   "language": "python",
   "name": "python3"
  },
  "language_info": {
   "codemirror_mode": {
    "name": "ipython",
    "version": 3
   },
   "file_extension": ".py",
   "mimetype": "text/x-python",
   "name": "python",
   "nbconvert_exporter": "python",
   "pygments_lexer": "ipython3",
   "version": "3.12.4"
  }
 },
 "nbformat": 4,
 "nbformat_minor": 2
}
